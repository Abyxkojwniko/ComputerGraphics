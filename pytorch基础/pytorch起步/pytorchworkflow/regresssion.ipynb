{
 "cells": [
  {
   "cell_type": "code",
   "execution_count": 1,
   "id": "2fc1b8ff",
   "metadata": {},
   "outputs": [],
   "source": [
    "#how to work out the data\n",
    "what_were_covering = {1: \"data (prepare and load)\",\n",
    "    2: \"build model\",\n",
    "    3: \"fitting the model to data (training)\",\n",
    "    4: \"making predictions and evaluating a model (inference)\",\n",
    "    5: \"saving and loading a model\",\n",
    "    6: \"putting it all together\"\n",
    "}"
   ]
  },
  {
   "cell_type": "markdown",
   "id": "c2503d06",
   "metadata": {},
   "source": [
    "Data preparing and loading"
   ]
  },
  {
   "cell_type": "code",
   "execution_count": 2,
   "id": "2aec2b74",
   "metadata": {},
   "outputs": [
    {
     "data": {
      "text/plain": [
       "'2.7.1+cu126'"
      ]
     },
     "execution_count": 2,
     "metadata": {},
     "output_type": "execute_result"
    }
   ],
   "source": [
    "import torch\n",
    "from torch import nn # nn contains all of PyTorch's building blocks for neural networks\n",
    "import matplotlib.pyplot as plt\n",
    "\n",
    "# Check PyTorch version\n",
    "torch.__version__"
   ]
  },
  {
   "cell_type": "code",
   "execution_count": 3,
   "id": "45d7b04e",
   "metadata": {},
   "outputs": [
    {
     "data": {
      "text/plain": [
       "(tensor([[0.0000],\n",
       "         [0.0200],\n",
       "         [0.0400],\n",
       "         [0.0600],\n",
       "         [0.0800],\n",
       "         [0.1000],\n",
       "         [0.1200],\n",
       "         [0.1400],\n",
       "         [0.1600],\n",
       "         [0.1800]]),\n",
       " tensor([[0.3000],\n",
       "         [0.3140],\n",
       "         [0.3280],\n",
       "         [0.3420],\n",
       "         [0.3560],\n",
       "         [0.3700],\n",
       "         [0.3840],\n",
       "         [0.3980],\n",
       "         [0.4120],\n",
       "         [0.4260]]))"
      ]
     },
     "execution_count": 3,
     "metadata": {},
     "output_type": "execute_result"
    }
   ],
   "source": [
    "# creat data\n",
    "weight=0.7\n",
    "bias=0.3\n",
    "start=0\n",
    "end=1\n",
    "step=0.02\n",
    "x=torch.arange(start,end,step).unsqueeze(dim=1)\n",
    "y=weight*x+bias\n",
    "x[:10],y[:10]"
   ]
  },
  {
   "cell_type": "code",
   "execution_count": 4,
   "id": "d8598115",
   "metadata": {},
   "outputs": [
    {
     "data": {
      "text/plain": [
       "(50, 50)"
      ]
     },
     "execution_count": 4,
     "metadata": {},
     "output_type": "execute_result"
    }
   ],
   "source": [
    "len(x),len(y)"
   ]
  },
  {
   "cell_type": "markdown",
   "id": "1828c032",
   "metadata": {},
   "source": [
    "Split them into train val test"
   ]
  },
  {
   "cell_type": "code",
   "execution_count": 5,
   "id": "693a296a",
   "metadata": {},
   "outputs": [
    {
     "data": {
      "text/plain": [
       "(tensor([[0.0000],\n",
       "         [0.0200],\n",
       "         [0.0400],\n",
       "         [0.0600],\n",
       "         [0.0800]]),\n",
       " tensor([[0.3000],\n",
       "         [0.3140],\n",
       "         [0.3280],\n",
       "         [0.3420],\n",
       "         [0.3560]]),\n",
       " tensor([[0.8000],\n",
       "         [0.8200],\n",
       "         [0.8400],\n",
       "         [0.8600],\n",
       "         [0.8800]]),\n",
       " tensor([[0.8600],\n",
       "         [0.8740],\n",
       "         [0.8880],\n",
       "         [0.9020],\n",
       "         [0.9160]]))"
      ]
     },
     "execution_count": 5,
     "metadata": {},
     "output_type": "execute_result"
    }
   ],
   "source": [
    "train_split=int(0.8*len(x))\n",
    "x_train,y_train=x[:train_split],y[:train_split]\n",
    "x_test,y_test=x[train_split:],y[train_split:]\n",
    "x_train[:5],y_train[:5],x_test[:5],y_test[:5]"
   ]
  },
  {
   "cell_type": "code",
   "execution_count": 6,
   "id": "e1c686cc",
   "metadata": {},
   "outputs": [
    {
     "data": {
      "image/png": "[encoded data removed]",
      "text/plain": [
       "<Figure size 1000x700 with 1 Axes>"
      ]
     },
     "metadata": {},
     "output_type": "display_data"
    }
   ],
   "source": [
    "def plot_predictions(train_data=x_train,\n",
    "                     train_labels=y_train,\n",
    "                     test_data=x_test,\n",
    "                     test_labels=y_test,\n",
    "                     predictions=None):\n",
    "    plt.figure(figsize=(10,7))\n",
    "    plt.scatter(train_data,train_labels,c=\"b\",s=4,label=\"training_data\")\n",
    "    plt.scatter(test_data,test_labels,c=\"g\",s=4,label=\"testing_data\")\n",
    "    if predictions is not None:\n",
    "        plt.scatter(test_data,predictions,c=\"r\",s=4,label=\"predictions\")\n",
    "    plt.legend(prop={\"size\":14})\n",
    "plot_predictions()"
   ]
  },
  {
   "cell_type": "markdown",
   "id": "ad56fb41",
   "metadata": {},
   "source": [
    "Build the first pytorch model"
   ]
  },
  {
   "cell_type": "code",
   "execution_count": 7,
   "id": "7c946cd0",
   "metadata": {},
   "outputs": [],
   "source": [
    "#create linear regression model class\n",
    "from torch import nn\n",
    "class LinearRegressionModel(nn.Module):\n",
    "    def __init__(self):\n",
    "        super().__init__()\n",
    "        self.weights=nn.Parameter(torch.randn(1,\n",
    "                                              requires_grad=True,\n",
    "                                              dtype=torch.float))\n",
    "        self.bias=nn.Parameter(torch.randn(1,\n",
    "                                           requires_grad=True,\n",
    "                                           dtype=torch.float))\n",
    "    def forward(self, x):\n",
    "        return self.weights * x + self.bias\n",
    "\n",
    "    "
   ]
  },
  {
   "cell_type": "markdown",
   "id": "b7e4dbce",
   "metadata": {},
   "source": [
    "PyTorch module\tWhat does it do?\n",
    "\n",
    "torch.nn\tContains all of the building blocks for computational graphs (essentially a series of computations executed in a particular way).\n",
    "\n",
    "torch.nn.Parameter\tStores tensors that can be used with nn.Module. If requires_grad=True gradients (used for updating model parameters via gradient descent) are calculated automatically, this is often referred to as \"autograd\".\n",
    "\n",
    "torch.nn.Module\tThe base class for all neural network modules, all the building blocks for neural networks are subclasses. If you're building a neural network in PyTorch, your models should subclass nn.Module. Requires a forward() method be implemented.\n",
    "\n",
    "torch.optim\tContains various optimization algorithms (these tell the model parameters stored in nn.Parameter how to best change to improve gradient descent and in turn reduce the loss).\n",
    "\n",
    "def forward()\tAll nn.Module subclasses require a forward() method, this defines the computation that will take place on the data passed to the particular nn.Module (e.g. the linear regression formula above)."
   ]
  },
  {
   "cell_type": "code",
   "execution_count": 8,
   "id": "388e436d",
   "metadata": {},
   "outputs": [
    {
     "data": {
      "text/plain": [
       "(LinearRegressionModel(),\n",
       " [Parameter containing:\n",
       "  tensor([0.3367], requires_grad=True),\n",
       "  Parameter containing:\n",
       "  tensor([0.1288], requires_grad=True)])"
      ]
     },
     "execution_count": 8,
     "metadata": {},
     "output_type": "execute_result"
    }
   ],
   "source": [
    "torch.manual_seed(42)\n",
    "model_0=LinearRegressionModel()\n",
    "#CHECK out the parameters\n",
    "model_0,list(model_0.parameters())"
   ]
  },
  {
   "cell_type": "code",
   "execution_count": 9,
   "id": "7278da7c",
   "metadata": {},
   "outputs": [
    {
     "data": {
      "text/plain": [
       "OrderedDict([('weights', tensor([0.3367])), ('bias', tensor([0.1288]))])"
      ]
     },
     "execution_count": 9,
     "metadata": {},
     "output_type": "execute_result"
    }
   ],
   "source": [
    "#list name parameters\n",
    "model_0.state_dict()"
   ]
  },
  {
   "cell_type": "code",
   "execution_count": 10,
   "id": "1a22ac18",
   "metadata": {},
   "outputs": [
    {
     "data": {
      "text/plain": [
       "(0.7, 0.3)"
      ]
     },
     "execution_count": 10,
     "metadata": {},
     "output_type": "execute_result"
    }
   ],
   "source": [
    "weight,bias"
   ]
  },
  {
   "cell_type": "code",
   "execution_count": 11,
   "id": "daad62eb",
   "metadata": {},
   "outputs": [
    {
     "data": {
      "text/plain": [
       "tensor([[0.3982],\n",
       "        [0.4049],\n",
       "        [0.4116],\n",
       "        [0.4184],\n",
       "        [0.4251],\n",
       "        [0.4318],\n",
       "        [0.4386],\n",
       "        [0.4453],\n",
       "        [0.4520],\n",
       "        [0.4588]])"
      ]
     },
     "execution_count": 11,
     "metadata": {},
     "output_type": "execute_result"
    }
   ],
   "source": [
    "### make predictions using torch.inference_mode()\n",
    "with torch.inference_mode():\n",
    "    y_preds=model_0(x_test)\n",
    "y_preds"
   ]
  },
  {
   "cell_type": "code",
   "execution_count": 12,
   "id": "53a47516",
   "metadata": {},
   "outputs": [
    {
     "data": {
      "image/png": "[encoded data removed]",
      "text/plain": [
       "<Figure size 1000x700 with 1 Axes>"
      ]
     },
     "metadata": {},
     "output_type": "display_data"
    }
   ],
   "source": [
    "def plot_predictions(train_data=x_train,\n",
    "                     train_labels=y_train,\n",
    "                     test_data=x_test,\n",
    "                     test_labels=y_test,\n",
    "                     predictions=y_preds):\n",
    "    plt.figure(figsize=(10,7))\n",
    "    plt.scatter(train_data,train_labels,c=\"b\",s=4,label=\"training_data\")\n",
    "    plt.scatter(test_data,test_labels,c=\"g\",s=4,label=\"testing_data\")\n",
    "    if predictions is not None:\n",
    "        plt.scatter(test_data,predictions,c=\"r\",s=4,label=\"predictions\")\n",
    "    plt.legend(prop={\"size\":14})\n",
    "plot_predictions()"
   ]
  },
  {
   "cell_type": "code",
   "execution_count": 13,
   "id": "37ce738d",
   "metadata": {},
   "outputs": [
    {
     "data": {
      "text/plain": [
       "tensor([[0.3982],\n",
       "        [0.4049],\n",
       "        [0.4116],\n",
       "        [0.4184],\n",
       "        [0.4251],\n",
       "        [0.4318],\n",
       "        [0.4386],\n",
       "        [0.4453],\n",
       "        [0.4520],\n",
       "        [0.4588]])"
      ]
     },
     "execution_count": 13,
     "metadata": {},
     "output_type": "execute_result"
    }
   ],
   "source": [
    "with torch.no_grad():\n",
    "    y_preds=model_0(x_test)\n",
    "y_preds"
   ]
  },
  {
   "cell_type": "code",
   "execution_count": 14,
   "id": "e797c0ca",
   "metadata": {},
   "outputs": [],
   "source": [
    "with torch.no_grad():\n",
    "    list(model_0.parameters())"
   ]
  },
  {
   "cell_type": "markdown",
   "id": "24b91987",
   "metadata": {},
   "source": [
    "#### Train the model\n",
    "use the loss function\n",
    "and use the optimizer"
   ]
  },
  {
   "cell_type": "code",
   "execution_count": 15,
   "id": "fd8fee0e",
   "metadata": {},
   "outputs": [],
   "source": [
    "loss_fn=nn.L1Loss()\n",
    "optimizer=torch.optim.SGD(params=model_0.parameters(),lr=0.01)"
   ]
  },
  {
   "cell_type": "markdown",
   "id": "256f044d",
   "metadata": {},
   "source": [
    "Build a training loop in pytorch"
   ]
  },
  {
   "cell_type": "code",
   "execution_count": 16,
   "id": "fd870e9c",
   "metadata": {},
   "outputs": [
    {
     "name": "stderr",
     "output_type": "stream",
     "text": [
      "  0%|          | 0/200 [00:00<?, ?it/s]"
     ]
    },
    {
     "name": "stderr",
     "output_type": "stream",
     "text": [
      " 54%|█████▍    | 108/200 [00:00<00:00, 606.10it/s]"
     ]
    },
    {
     "name": "stdout",
     "output_type": "stream",
     "text": [
      "Epoch:0 | Loss:0.31288138031959534 | Test loss:0.48106518387794495\n",
      "Epoch:10 | Loss:0.1976713240146637 | Test loss:0.3463551998138428\n",
      "Epoch:20 | Loss:0.08908725529909134 | Test loss:0.21729660034179688\n",
      "Epoch:30 | Loss:0.053148526698350906 | Test loss:0.14464017748832703\n",
      "Epoch:40 | Loss:0.04543796554207802 | Test loss:0.11360953003168106\n",
      "Epoch:50 | Loss:0.04167863354086876 | Test loss:0.09919948130846024\n",
      "Epoch:60 | Loss:0.03818932920694351 | Test loss:0.08886633068323135\n",
      "Epoch:70 | Loss:0.03476089984178543 | Test loss:0.0805937647819519\n",
      "Epoch:80 | Loss:0.03132382780313492 | Test loss:0.07232122868299484\n",
      "Epoch:90 | Loss:0.02788739837706089 | Test loss:0.06473556160926819\n",
      "Epoch:100 | Loss:0.024458957836031914 | Test loss:0.05646304413676262\n",
      "Epoch:110 | Loss:0.021020207554101944 | Test loss:0.04819049686193466\n",
      "Epoch:120 | Loss:0.01758546568453312 | Test loss:0.04060482233762741\n",
      "Epoch:130 | Loss:0.014155393466353416 | Test loss:0.03233227878808975\n",
      "Epoch:140 | Loss:0.010716589167714119 | Test loss:0.024059748277068138\n",
      "Epoch:150 | Loss:0.0072835334576666355 | Test loss:0.016474086791276932\n",
      "Epoch:160 | Loss:0.0038517764769494534 | Test loss:0.008201557211577892\n",
      "Epoch:170 | Loss:0.008932482451200485 | Test loss:0.005023092031478882\n"
     ]
    },
    {
     "name": "stderr",
     "output_type": "stream",
     "text": [
      "100%|██████████| 200/200 [00:00<00:00, 564.95it/s]"
     ]
    },
    {
     "name": "stdout",
     "output_type": "stream",
     "text": [
      "Epoch:180 | Loss:0.008932482451200485 | Test loss:0.005023092031478882\n",
      "Epoch:190 | Loss:0.008932482451200485 | Test loss:0.005023092031478882\n"
     ]
    },
    {
     "name": "stderr",
     "output_type": "stream",
     "text": [
      "\n"
     ]
    }
   ],
   "source": [
    "from tqdm import tqdm\n",
    "epochs=200\n",
    "epoch_count=[]\n",
    "loss_values=[]\n",
    "test_loss_values=[]\n",
    "for epoch in tqdm(range(epochs)):\n",
    "    model_0.train()\n",
    "    y_pred=model_0(x_train)\n",
    "    loss=loss_fn(y_pred,y_train)\n",
    "    optimizer.zero_grad()\n",
    "    loss.backward()\n",
    "    optimizer.step()\n",
    "    model_0.eval()#关闭掉其他的东西\n",
    "    with torch.inference_mode():#禁止了梯度追踪\n",
    "        test_pred=model_0(x_test)\n",
    "        test_loss=loss_fn(test_pred,y_test)\n",
    "    if epoch%10==0:\n",
    "        epoch_count.append(epoch)\n",
    "        loss_values.append(loss.detach().numpy())\n",
    "        test_loss_values.append(test_loss.detach().numpy())\n",
    "        print(f\"Epoch:{epoch} | Loss:{loss} | Test loss:{test_loss}\")"
   ]
  },
  {
   "cell_type": "code",
   "execution_count": 17,
   "id": "f557dcf9",
   "metadata": {},
   "outputs": [],
   "source": [
    "y_preds=model_0(x_test).detach().numpy() "
   ]
  },
  {
   "cell_type": "code",
   "execution_count": 18,
   "id": "cdb85ba2",
   "metadata": {},
   "outputs": [
    {
     "data": {
      "image/png": "[encoded data removed]",
      "text/plain": [
       "<Figure size 1000x700 with 1 Axes>"
      ]
     },
     "metadata": {},
     "output_type": "display_data"
    }
   ],
   "source": [
    "def plot_predictions(train_data=x_train,\n",
    "                     train_labels=y_train,\n",
    "                     test_data=x_test,\n",
    "                     test_labels=y_test,\n",
    "                     predictions=y_preds):\n",
    "    plt.figure(figsize=(10,7))\n",
    "    plt.scatter(train_data,train_labels,c=\"b\",s=4,label=\"training_data\")\n",
    "    plt.scatter(test_data,test_labels,c=\"g\",s=4,label=\"testing_data\")\n",
    "    if predictions is not None:\n",
    "        plt.scatter(test_data,predictions,c=\"r\",s=4,label=\"predictions\")\n",
    "    plt.legend(prop={\"size\":14})\n",
    "plot_predictions()"
   ]
  },
  {
   "cell_type": "code",
   "execution_count": 19,
   "id": "01475ace",
   "metadata": {},
   "outputs": [
    {
     "data": {
      "text/plain": [
       "<matplotlib.legend.Legend at 0x1fa52d57e80>"
      ]
     },
     "execution_count": 19,
     "metadata": {},
     "output_type": "execute_result"
    },
    {
     "data": {
      "image/png": "[encoded data removed]",
      "text/plain": [
       "<Figure size 640x480 with 1 Axes>"
      ]
     },
     "metadata": {},
     "output_type": "display_data"
    }
   ],
   "source": [
    "plt.plot(epoch_count,loss_values,label=\"train loss\")\n",
    "plt.plot(epoch_count,test_loss_values,label=\"test loss\")\n",
    "plt.title(\"traintradn test loss curves\")\n",
    "plt.ylabel(\"loss\")\n",
    "plt.xlabel(\"epoch\")\n",
    "plt.legend()"
   ]
  },
  {
   "cell_type": "code",
   "execution_count": 26,
   "id": "fdbd5f3d",
   "metadata": {},
   "outputs": [],
   "source": [
    "#saving a model in pytorch\n",
    "#pickle\n",
    "from pathlib import Path\n",
    "path=Path(\"model_parameters\")\n",
    "path.mkdir(parents=True,exist_ok=True)\n",
    "model_name=\"model_0.pth\"\n",
    "model_save_path=path/model_name\n",
    "torch.save(model_0.state_dict(),model_save_path)"
   ]
  },
  {
   "cell_type": "code",
   "execution_count": 31,
   "id": "37fc0d74",
   "metadata": {},
   "outputs": [
    {
     "data": {
      "text/plain": [
       "<All keys matched successfully>"
      ]
     },
     "execution_count": 31,
     "metadata": {},
     "output_type": "execute_result"
    }
   ],
   "source": [
    "model_1=LinearRegressionModel() \n",
    "model_1.load_state_dict(torch.load(f=model_save_path))\n",
    "\n"
   ]
  },
  {
   "cell_type": "code",
   "execution_count": 32,
   "id": "2199d726",
   "metadata": {},
   "outputs": [
    {
     "data": {
      "text/plain": [
       "tensor([[0.8685],\n",
       "        [0.8825],\n",
       "        [0.8965],\n",
       "        [0.9105],\n",
       "        [0.9245],\n",
       "        [0.9384],\n",
       "        [0.9524],\n",
       "        [0.9664],\n",
       "        [0.9804],\n",
       "        [0.9944]])"
      ]
     },
     "execution_count": 32,
     "metadata": {},
     "output_type": "execute_result"
    }
   ],
   "source": [
    "#make predictions\n",
    "model_1.eval()\n",
    "with torch.inference_mode():\n",
    "    model_1_preds=model_1(x_test)\n",
    "model_1_preds\n",
    "    "
   ]
  },
  {
   "cell_type": "code",
   "execution_count": 33,
   "id": "362d8fef",
   "metadata": {},
   "outputs": [
    {
     "name": "stdout",
     "output_type": "stream",
     "text": [
      "tensor([[True],\n",
      "        [True],\n",
      "        [True],\n",
      "        [True],\n",
      "        [True],\n",
      "        [True],\n",
      "        [True],\n",
      "        [True],\n",
      "        [True],\n",
      "        [True]])\n"
     ]
    }
   ],
   "source": [
    "print(model_1_preds==y_preds)"
   ]
  },
  {
   "cell_type": "code",
   "execution_count": null,
   "id": "8f61378b",
   "metadata": {},
   "outputs": [],
   "source": []
  }
 ],
 "metadata": {
  "kernelspec": {
   "display_name": "py310",
   "language": "python",
   "name": "python3"
  },
  "language_info": {
   "codemirror_mode": {
    "name": "ipython",
    "version": 3
   },
   "file_extension": ".py",
   "mimetype": "text/x-python",
   "name": "python",
   "nbconvert_exporter": "python",
   "pygments_lexer": "ipython3",
   "version": "3.10.18"
  }
 },
 "nbformat": 4,
 "nbformat_minor": 5
}

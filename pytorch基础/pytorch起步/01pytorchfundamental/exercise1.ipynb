{
 "cells": [
  {
   "cell_type": "code",
   "execution_count": 1,
   "id": "75343468",
   "metadata": {},
   "outputs": [
    {
     "data": {
      "text/plain": [
       "tensor([[0.2323, 0.5860, 0.5747, 0.9504, 0.6917, 0.1256, 0.7734],\n",
       "        [0.0932, 0.4206, 0.2834, 0.2907, 0.5718, 0.5405, 0.6944],\n",
       "        [0.8897, 0.7379, 0.2633, 0.7105, 0.8682, 0.2731, 0.0307],\n",
       "        [0.4133, 0.8332, 0.4528, 0.3717, 0.6571, 0.2717, 0.4786],\n",
       "        [0.1696, 0.2425, 0.4699, 0.8554, 0.5022, 0.7382, 0.1179],\n",
       "        [0.6283, 0.2548, 0.5597, 0.9113, 0.2870, 0.0714, 0.2000],\n",
       "        [0.9470, 0.8211, 0.1305, 0.0679, 0.2073, 0.2141, 0.9487]])"
      ]
     },
     "execution_count": 1,
     "metadata": {},
     "output_type": "execute_result"
    }
   ],
   "source": [
    "import torch\n",
    "tensor1=torch.rand(7,7)\n",
    "tensor1"
   ]
  },
  {
   "cell_type": "code",
   "execution_count": 2,
   "id": "eca3644b",
   "metadata": {},
   "outputs": [
    {
     "data": {
      "text/plain": [
       "tensor([[0.1948, 0.1623, 0.5869, 0.2559, 0.3890, 0.3537, 0.6360]])"
      ]
     },
     "execution_count": 2,
     "metadata": {},
     "output_type": "execute_result"
    }
   ],
   "source": [
    "tensor2=torch.rand(1,7)\n",
    "tensor2"
   ]
  },
  {
   "cell_type": "code",
   "execution_count": 3,
   "id": "10cba65c",
   "metadata": {},
   "outputs": [
    {
     "data": {
      "text/plain": [
       "tensor([[1.5264],\n",
       "        [1.1824],\n",
       "        [1.0833],\n",
       "        [1.2327],\n",
       "        [1.0986],\n",
       "        [0.9896],\n",
       "        [1.1715]])"
      ]
     },
     "execution_count": 3,
     "metadata": {},
     "output_type": "execute_result"
    }
   ],
   "source": [
    "tensor3=torch.matmul(tensor1,tensor2.T)\n",
    "tensor3"
   ]
  },
  {
   "cell_type": "code",
   "execution_count": 11,
   "id": "c0946626",
   "metadata": {},
   "outputs": [
    {
     "data": {
      "text/plain": [
       "(tensor([[0.4963, 0.7682, 0.0885, 0.1320, 0.3074, 0.6341, 0.4901],\n",
       "         [0.8964, 0.4556, 0.6323, 0.3489, 0.4017, 0.0223, 0.1689],\n",
       "         [0.2939, 0.5185, 0.6977, 0.8000, 0.1610, 0.2823, 0.6816],\n",
       "         [0.9152, 0.3971, 0.8742, 0.4194, 0.5529, 0.9527, 0.0362],\n",
       "         [0.1852, 0.3734, 0.3051, 0.9320, 0.1759, 0.2698, 0.1507],\n",
       "         [0.0317, 0.2081, 0.9298, 0.7231, 0.7423, 0.5263, 0.2437],\n",
       "         [0.5846, 0.0332, 0.1387, 0.2422, 0.8155, 0.7932, 0.2783]]),\n",
       " tensor([[0.4820, 0.8198, 0.9971, 0.6984, 0.5675, 0.8352, 0.2056]]),\n",
       " tensor([[1.8542],\n",
       "         [1.9611],\n",
       "         [2.2884],\n",
       "         [3.0481],\n",
       "         [1.7067],\n",
       "         [2.5290],\n",
       "         [1.7989]]))"
      ]
     },
     "execution_count": 11,
     "metadata": {},
     "output_type": "execute_result"
    }
   ],
   "source": [
    "torch.manual_seed(0)\n",
    "tensor1=torch.rand(7,7)\n",
    "tensor2=torch.rand(1,7)\n",
    "tensor3=torch.matmul(tensor1,tensor2.T)\n",
    "tensor1,tensor2,tensor3"
   ]
  },
  {
   "cell_type": "code",
   "execution_count": 12,
   "id": "930b33e0",
   "metadata": {},
   "outputs": [
    {
     "data": {
      "text/plain": [
       "(tensor([[0.0290, 0.4019, 0.2598, 0.3666, 0.0583, 0.7006, 0.0518],\n",
       "         [0.4681, 0.6738, 0.3315, 0.7837, 0.5631, 0.7749, 0.8208],\n",
       "         [0.2793, 0.6817, 0.2837, 0.6567, 0.2388, 0.7313, 0.6012],\n",
       "         [0.3043, 0.2548, 0.6294, 0.9665, 0.7399, 0.4517, 0.4757],\n",
       "         [0.7842, 0.1525, 0.6662, 0.3343, 0.7893, 0.3216, 0.5247],\n",
       "         [0.6688, 0.8436, 0.4265, 0.9561, 0.0770, 0.4108, 0.0014],\n",
       "         [0.5414, 0.6419, 0.2976, 0.7077, 0.4189, 0.0655, 0.8839]],\n",
       "        device='cuda:0'),\n",
       " tensor([[0.8083, 0.7528, 0.8988, 0.6839, 0.7658, 0.9149, 0.3993]],\n",
       "        device='cuda:0'),\n",
       " tensor([[1.5166],\n",
       "         [3.1874],\n",
       "         [2.5350],\n",
       "         [2.8343],\n",
       "         [2.6844],\n",
       "         [2.6483],\n",
       "         [2.4059]], device='cuda:0'))"
      ]
     },
     "execution_count": 12,
     "metadata": {},
     "output_type": "execute_result"
    }
   ],
   "source": [
    "device=\"cuda\" if torch.cuda.is_available() else \"cpu\"\n",
    "torch.manual_seed(1234)\n",
    "tensor1=torch.rand(7,7).to(device)\n",
    "tensor2=torch.rand(1,7).to(device)\n",
    "tensor3=torch.matmul(tensor1,tensor2.T)\n",
    "tensor1,tensor2,tensor3"
   ]
  },
  {
   "cell_type": "code",
   "execution_count": 15,
   "id": "99228584",
   "metadata": {},
   "outputs": [
    {
     "data": {
      "text/plain": [
       "(tensor([[0.0290, 0.4019, 0.2598],\n",
       "         [0.3666, 0.0583, 0.7006]], device='cuda:0'),\n",
       " tensor([[0.0518, 0.4681, 0.6738],\n",
       "         [0.3315, 0.7837, 0.5631]], device='cuda:0'))"
      ]
     },
     "execution_count": 15,
     "metadata": {},
     "output_type": "execute_result"
    }
   ],
   "source": [
    "torch.manual_seed(1234)\n",
    "tensor4=torch.rand(2,3).to(device)\n",
    "tensor5=torch.rand(2,3).to(device)\n",
    "tensor4,tensor5"
   ]
  },
  {
   "cell_type": "code",
   "execution_count": 18,
   "id": "8b4cc885",
   "metadata": {},
   "outputs": [
    {
     "data": {
      "text/plain": [
       "tensor([[0.0518, 0.4681],\n",
       "        [0.6738, 0.3315],\n",
       "        [0.7837, 0.5631]], device='cuda:0')"
      ]
     },
     "execution_count": 18,
     "metadata": {},
     "output_type": "execute_result"
    }
   ],
   "source": [
    "tensor5=tensor5.reshape(3,2)\n",
    "tensor5"
   ]
  },
  {
   "cell_type": "code",
   "execution_count": 19,
   "id": "aecda1f1",
   "metadata": {},
   "outputs": [
    {
     "data": {
      "text/plain": [
       "tensor([[0.4759, 0.2931],\n",
       "        [0.6074, 0.5855]], device='cuda:0')"
      ]
     },
     "execution_count": 19,
     "metadata": {},
     "output_type": "execute_result"
    }
   ],
   "source": [
    "tensor6=torch.matmul(tensor4,tensor5)\n",
    "tensor6"
   ]
  },
  {
   "cell_type": "code",
   "execution_count": 22,
   "id": "c04988e3",
   "metadata": {},
   "outputs": [
    {
     "data": {
      "text/plain": [
       "(tensor(0.6074, device='cuda:0'), tensor(0.2931, device='cuda:0'))"
      ]
     },
     "execution_count": 22,
     "metadata": {},
     "output_type": "execute_result"
    }
   ],
   "source": [
    "maxvalue=tensor6.max()\n",
    "minvalue=tensor6.min()\n",
    "maxvalue,minvalue"
   ]
  },
  {
   "cell_type": "code",
   "execution_count": 23,
   "id": "709d6369",
   "metadata": {},
   "outputs": [
    {
     "data": {
      "text/plain": [
       "(tensor(2, device='cuda:0'), tensor(1, device='cuda:0'))"
      ]
     },
     "execution_count": 23,
     "metadata": {},
     "output_type": "execute_result"
    }
   ],
   "source": [
    "maxindex=tensor6.argmax()\n",
    "minindex=tensor6.argmin()\n",
    "maxindex,minindex"
   ]
  },
  {
   "cell_type": "code",
   "execution_count": 25,
   "id": "9fa7f169",
   "metadata": {},
   "outputs": [
    {
     "data": {
      "text/plain": [
       "tensor([[[[0.5349, 0.1988, 0.6592, 0.6569, 0.2328, 0.4251, 0.2071, 0.6297,\n",
       "           0.3653, 0.8513]]]])"
      ]
     },
     "execution_count": 25,
     "metadata": {},
     "output_type": "execute_result"
    }
   ],
   "source": [
    "torch.manual_seed(7)\n",
    "tensor7=torch.rand(1,1,1,10)\n",
    "tensor7"
   ]
  },
  {
   "cell_type": "code",
   "execution_count": 26,
   "id": "610ad70b",
   "metadata": {},
   "outputs": [
    {
     "data": {
      "text/plain": [
       "tensor([0.5349, 0.1988, 0.6592, 0.6569, 0.2328, 0.4251, 0.2071, 0.6297, 0.3653,\n",
       "        0.8513])"
      ]
     },
     "execution_count": 26,
     "metadata": {},
     "output_type": "execute_result"
    }
   ],
   "source": [
    "tensor7_squeezed=tensor7.squeeze()\n",
    "tensor7_squeezed"
   ]
  },
  {
   "cell_type": "code",
   "execution_count": null,
   "id": "b0851af3",
   "metadata": {},
   "outputs": [],
   "source": []
  }
 ],
 "metadata": {
  "kernelspec": {
   "display_name": "py310",
   "language": "python",
   "name": "python3"
  },
  "language_info": {
   "codemirror_mode": {
    "name": "ipython",
    "version": 3
   },
   "file_extension": ".py",
   "mimetype": "text/x-python",
   "name": "python",
   "nbconvert_exporter": "python",
   "pygments_lexer": "ipython3",
   "version": "3.10.18"
  }
 },
 "nbformat": 4,
 "nbformat_minor": 5
}
